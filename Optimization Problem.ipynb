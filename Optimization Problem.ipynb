{
 "cells": [
  {
   "cell_type": "code",
   "execution_count": 3,
   "id": "dc6f1172",
   "metadata": {},
   "outputs": [],
   "source": [
    "import numpy as np\n",
    "import pandas as pd\n",
    "import warnings\n",
    "warnings.filterwarnings('ignore')\n",
    "import sys"
   ]
  },
  {
   "cell_type": "code",
   "execution_count": 4,
   "id": "276ee8fd",
   "metadata": {},
   "outputs": [],
   "source": [
    "#pip install pulp"
   ]
  },
  {
   "cell_type": "code",
   "execution_count": 5,
   "id": "3c1230a8",
   "metadata": {},
   "outputs": [],
   "source": [
    "#pip install glpk"
   ]
  },
  {
   "cell_type": "code",
   "execution_count": 6,
   "id": "b38f6190",
   "metadata": {},
   "outputs": [],
   "source": [
    "#pip install cbcpy"
   ]
  },
  {
   "cell_type": "code",
   "execution_count": 7,
   "id": "35c36d76",
   "metadata": {},
   "outputs": [],
   "source": [
    "#pip install glpk-utils"
   ]
  },
  {
   "cell_type": "code",
   "execution_count": 8,
   "id": "2e2cb705",
   "metadata": {},
   "outputs": [],
   "source": [
    "from pulp import *"
   ]
  },
  {
   "cell_type": "code",
   "execution_count": 9,
   "id": "3273b94c",
   "metadata": {},
   "outputs": [],
   "source": [
    "prob = LpProblem(\"Simple Diet Problem\",LpMinimize)"
   ]
  },
  {
   "cell_type": "code",
   "execution_count": 10,
   "id": "bdc7066a",
   "metadata": {},
   "outputs": [],
   "source": [
    "df = pd.read_excel(\"Diet Data.xlsx\")\n",
    "df['Price/Serving']=df['Price/Serving'].str.replace(\"$\",\"\")\n",
    "df['Price/Serving']=df['Price/Serving'].astype('float')\n",
    "\n",
    "# Create a list of the food items\n",
    "food_items = list(df['Foods'])\n",
    "\n",
    "# Create a dictinary of costs for all food items\n",
    "costs = dict(zip(food_items,df['Price/Serving']))\n",
    "\n",
    "# Create a dictionary of calories for all food items\n",
    "calories = dict(zip(food_items,df['Calories']))\n",
    "\n",
    "# Create a dictionary of total fat for all food items\n",
    "fat = dict(zip(food_items,df['Total_Fat (g)']))\n",
    "\n",
    "# Create a dictionary of carbohydrates for all food items\n",
    "carbs = dict(zip(food_items,df['Carbohydrates (g)']))"
   ]
  },
  {
   "cell_type": "code",
   "execution_count": 104,
   "id": "596000d4",
   "metadata": {},
   "outputs": [],
   "source": [
    "food_vars = LpVariable.dicts(\"Food\",food_items,lowBound=0,cat='Continuous')"
   ]
  },
  {
   "cell_type": "code",
   "execution_count": 108,
   "id": "ef4d31c6",
   "metadata": {},
   "outputs": [],
   "source": [
    "prob = LpProblem(\"MAMO_Solver\",LpMinimize)"
   ]
  },
  {
   "cell_type": "code",
   "execution_count": 109,
   "id": "e04aa866",
   "metadata": {},
   "outputs": [
    {
     "data": {
      "text/plain": [
       "MAMO_Solver:\n",
       "MINIMIZE\n",
       "None\n",
       "VARIABLES"
      ]
     },
     "execution_count": 109,
     "metadata": {},
     "output_type": "execute_result"
    }
   ],
   "source": [
    "prob"
   ]
  },
  {
   "cell_type": "code",
   "execution_count": 110,
   "id": "c3cbe37c",
   "metadata": {},
   "outputs": [
    {
     "data": {
      "text/plain": [
       "[0.48*Food_Frozen_Broccoli + 0.0,\n",
       " 0.54*Food_Frozen_Corn + 0.0,\n",
       " 0.06*Food_Raw_Lettuce_Iceberg + 0.0,\n",
       " 0.18*Food_Baked_Potatoes + 0.0,\n",
       " 0.93*Food_Tofu + 0.0,\n",
       " 2.52*Food_Roasted_Chicken + 0.0,\n",
       " 2.34*Food_Spaghetti_W__Sauce + 0.0,\n",
       " 0.72*Food_Raw_Apple + 0.0,\n",
       " 0.45*Food_Banana + 0.0,\n",
       " 0.15*Food_Wheat_Bread + 0.0,\n",
       " 0.18*Food_White_Bread + 0.0,\n",
       " 0.27*Food_Oatmeal_Cookies + 0.0,\n",
       " 0.48*Food_Apple_Pie + 0.0,\n",
       " 0.33*Food_Scrambled_Eggs + 0.0,\n",
       " 0.45*Food_Turkey_Bologna + 0.0,\n",
       " 0.81*Food_Beef_Frankfurter + 0.0,\n",
       " 0.09*Food_Chocolate_Chip_Cookies + 0.0]"
      ]
     },
     "execution_count": 110,
     "metadata": {},
     "output_type": "execute_result"
    }
   ],
   "source": [
    "[costs[i]*food_vars[i] for i in food_items]"
   ]
  },
  {
   "cell_type": "code",
   "execution_count": 112,
   "id": "07c0e3e1",
   "metadata": {},
   "outputs": [],
   "source": [
    "prob += lpSum([costs[i]*food_vars[i] for i in food_items])"
   ]
  },
  {
   "cell_type": "code",
   "execution_count": 113,
   "id": "dfc452e4",
   "metadata": {},
   "outputs": [],
   "source": [
    "prob += lpSum([calories[f] * food_vars[f] for f in food_items]) >= 800.0\n",
    "prob += lpSum([calories[f] * food_vars[f] for f in food_items]) <= 1300.0"
   ]
  },
  {
   "cell_type": "code",
   "execution_count": 118,
   "id": "73df3c19",
   "metadata": {},
   "outputs": [],
   "source": [
    "prob += lpSum([fat[f] * food_vars[f] for f in food_items]) >= 20.0 #\"FatMinimum\"\n",
    "prob += lpSum([fat[f] * food_vars[f] for f in food_items]) <= 50.0 #\"FatMaximum\"\n",
    "\n",
    "# Carbs\n",
    "prob += lpSum([carbs[f] * food_vars[f] for f in food_items]) >= 130.0 # \"CarbsMinimum\"\n",
    "prob += lpSum([carbs[f] * food_vars[f] for f in food_items]) <= 200.0 #\"CarbsMaximum\"\n"
   ]
  },
  {
   "cell_type": "code",
   "execution_count": 119,
   "id": "1f8e6eda",
   "metadata": {},
   "outputs": [
    {
     "data": {
      "text/plain": [
       "1"
      ]
     },
     "execution_count": 119,
     "metadata": {},
     "output_type": "execute_result"
    }
   ],
   "source": [
    "prob.solve()"
   ]
  },
  {
   "cell_type": "code",
   "execution_count": 120,
   "id": "c7135f4b",
   "metadata": {},
   "outputs": [
    {
     "name": "stdout",
     "output_type": "stream",
     "text": [
      "Status: Optimal\n"
     ]
    }
   ],
   "source": [
    "# The status of the solution is printed to the screen\n",
    "print(\"Status:\", LpStatus[prob.status])\n"
   ]
  },
  {
   "cell_type": "code",
   "execution_count": 122,
   "id": "cf6d6b52",
   "metadata": {},
   "outputs": [
    {
     "name": "stdout",
     "output_type": "stream",
     "text": [
      "Food_Baked_Potatoes = 2.6953037\n",
      "Food_Chocolate_Chip_Cookies = 4.3246532\n",
      "The total cost of this balanced diet is: $0.87\n"
     ]
    }
   ],
   "source": [
    "for v in prob.variables():\n",
    "    if v.varValue>0:\n",
    "        print(v.name, \"=\", v.varValue)\n",
    "obj = value(prob.objective)\n",
    "print(\"The total cost of this balanced diet is: ${}\".format(round(obj,2)))"
   ]
  },
  {
   "cell_type": "code",
   "execution_count": null,
   "id": "1ce91631",
   "metadata": {},
   "outputs": [],
   "source": []
  },
  {
   "cell_type": "code",
   "execution_count": null,
   "id": "50f9cae4",
   "metadata": {},
   "outputs": [],
   "source": []
  }
 ],
 "metadata": {
  "kernelspec": {
   "display_name": "Python 3 (ipykernel)",
   "language": "python",
   "name": "python3"
  },
  "language_info": {
   "codemirror_mode": {
    "name": "ipython",
    "version": 3
   },
   "file_extension": ".py",
   "mimetype": "text/x-python",
   "name": "python",
   "nbconvert_exporter": "python",
   "pygments_lexer": "ipython3",
   "version": "3.9.7"
  }
 },
 "nbformat": 4,
 "nbformat_minor": 5
}
